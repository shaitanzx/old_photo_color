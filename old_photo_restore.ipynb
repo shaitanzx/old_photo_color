{
  "cells": [
    {
      "cell_type": "code",
      "execution_count": null,
      "metadata": {
        "id": "fPTRw_Dc7G3c",
        "cellView": "form"
      },
      "outputs": [],
      "source": [
        "# @markdown # Old Photo Color\n",
        "GoogleDrive_output = True #@param {type:\"boolean\"}\n",
        "output_foder=\"\"\n",
        "if GoogleDrive_output == True :\n",
        "    from google.colab import drive\n",
        "    drive.mount('/content/drive', force_remount=True)\n",
        "    output_foder=\"--google\"\n",
        "\n",
        "\n",
        "!pip install pygit2==1.15.1\n",
        "%cd /content\n",
        "!git clone https://github.com/shaitanzx/old_photo_color.git\n",
        "\n",
        "%cd /content/old_photo_color\n",
        "!python launch.py --share {output_foder}"
      ]
    }
  ],
  "metadata": {
    "accelerator": "GPU",
    "colab": {
      "gpuType": "T4",
      "provenance": []
    },
    "kernelspec": {
      "display_name": "Python 3",
      "name": "python3"
    },
    "language_info": {
      "name": "python"
    }
  },
  "nbformat": 4,
  "nbformat_minor": 0
}